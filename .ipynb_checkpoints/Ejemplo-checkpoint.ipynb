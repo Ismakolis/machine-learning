{
 "cells": [
  {
   "cell_type": "markdown",
   "id": "1099f8a5-71d7-4fc7-9ee2-1584a4a8519d",
   "metadata": {},
   "source": [
    "# Introducción\n",
    "Este es un docuemnto de Python que me permite entender las bases de este lenguaje de programación.<br>\n",
    "<img src=\"https://encrypted-tbn0.gstatic.com/images?q=tbn:ANd9GcQy8RED7UqmmNVEEnhokd_hl8192-oCm4UPRw&s\">\n",
    "\n",
    "*Python lenguaje de programacion\n",
    "\n",
    "\n",
    "\n",
    "\n",
    "\n"
   ]
  },
  {
   "cell_type": "code",
   "execution_count": 9,
   "id": "2bb3cad9-e8b5-4c70-9793-5a7fd9e39ff5",
   "metadata": {},
   "outputs": [
    {
     "name": "stdout",
     "output_type": "stream",
     "text": [
      "El resutado de a  es: 5\n"
     ]
    }
   ],
   "source": [
    "#Esto es un comentario\n",
    "a = 5\n",
    "print (\"El resutado de a  es:\", + a)"
   ]
  },
  {
   "cell_type": "code",
   "execution_count": null,
   "id": "1f409f6b-82b9-40f8-a921-54358e6ef983",
   "metadata": {},
   "outputs": [],
   "source": []
  }
 ],
 "metadata": {
  "kernelspec": {
   "display_name": "Python 3 (ipykernel)",
   "language": "python",
   "name": "python3"
  },
  "language_info": {
   "codemirror_mode": {
    "name": "ipython",
    "version": 3
   },
   "file_extension": ".py",
   "mimetype": "text/x-python",
   "name": "python",
   "nbconvert_exporter": "python",
   "pygments_lexer": "ipython3",
   "version": "3.13.5"
  }
 },
 "nbformat": 4,
 "nbformat_minor": 5
}
