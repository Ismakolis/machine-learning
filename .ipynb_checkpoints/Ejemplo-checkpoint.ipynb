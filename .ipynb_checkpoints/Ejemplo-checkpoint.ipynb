{
 "cells": [
  {
   "cell_type": "code",
   "execution_count": null,
   "id": "b14970a8-8b2d-4657-b52c-fd03d69e7ba1",
   "metadata": {},
   "outputs": [],
   "source": [
    "# Introducción\n",
    "Este es un docuemnto de Python que me permite entender las bases de este lenguaje de programación.\n",
    "<br>\n",
    "<img src=\"https://encrypted-tbn0.gstatic.com/images?q=tbn:ANd9GcQy8RED7UqmmNVEEnhokd_hl8192-oCm4UPRw&s\">"
   ]
  }
 ],
 "metadata": {
  "kernelspec": {
   "display_name": "Python 3 (ipykernel)",
   "language": "python",
   "name": "python3"
  },
  "language_info": {
   "codemirror_mode": {
    "name": "ipython",
    "version": 3
   },
   "file_extension": ".py",
   "mimetype": "text/x-python",
   "name": "python",
   "nbconvert_exporter": "python",
   "pygments_lexer": "ipython3",
   "version": "3.13.5"
  }
 },
 "nbformat": 4,
 "nbformat_minor": 5
}
