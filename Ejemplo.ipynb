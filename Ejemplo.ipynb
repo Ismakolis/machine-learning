{
 "cells": [
  {
   "cell_type": "markdown",
   "id": "5c48c0f2-cdb7-4d91-a9ce-622beefdc7ee",
   "metadata": {},
   "source": [
    "# Introducción\n",
    "Este es un docuemnto de Python que me permite entender las bases de este lenguaje de programación.<br>\n",
    "<img src=\"https://encrypted-tbn0.gstatic.com/images?q=tbn:ANd9GcQy8RED7UqmmNVEEnhokd_hl8192-oCm4UPRw&s\">\n",
    "\n",
    "*Python lenguaje de programacion\n"
   ]
  },
  {
   "cell_type": "code",
   "execution_count": null,
   "id": "524893d4-b7a9-475a-a1ad-4fab8bc432da",
   "metadata": {},
   "outputs": [],
   "source": []
  }
 ],
 "metadata": {
  "kernelspec": {
   "display_name": "Python 3 (ipykernel)",
   "language": "python",
   "name": "python3"
  },
  "language_info": {
   "codemirror_mode": {
    "name": "ipython",
    "version": 3
   },
   "file_extension": ".py",
   "mimetype": "text/x-python",
   "name": "python",
   "nbconvert_exporter": "python",
   "pygments_lexer": "ipython3",
   "version": "3.13.5"
  }
 },
 "nbformat": 4,
 "nbformat_minor": 5
}
